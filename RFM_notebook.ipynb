{
 "cells": [
  {
   "cell_type": "code",
   "execution_count": 0,
   "metadata": {
    "application/vnd.databricks.v1+cell": {
     "cellMetadata": {
      "byteLimit": 2048000,
      "rowLimit": 10000
     },
     "inputWidgets": {},
     "nuid": "a90cbde1-57bc-4b38-8327-cf10de210ebd",
     "showTitle": false,
     "title": ""
    }
   },
   "outputs": [
    {
     "output_type": "execute_result",
     "data": {
      "text/plain": [
       "'0422-041613-7jba4tw0'"
      ]
     },
     "execution_count": 76,
     "metadata": {},
     "output_type": "execute_result"
    }
   ],
   "source": [
    "spark.conf.get(\"spark.databricks.clusterUsageTags.clusterName\")\n",
    "spark.conf.get(\"spark.databricks.clusterUsageTags.clusterId\")"
   ]
  },
  {
   "cell_type": "code",
   "execution_count": 0,
   "metadata": {
    "application/vnd.databricks.v1+cell": {
     "cellMetadata": {
      "byteLimit": 2048000,
      "rowLimit": 10000
     },
     "inputWidgets": {},
     "nuid": "1f296eb9-e3cb-4414-bce4-9b8cceba2402",
     "showTitle": false,
     "title": ""
    }
   },
   "outputs": [],
   "source": [
    "#Connections credentials\n",
    "ContainerName = \"output\"\n",
    "azure_blobstorage_name = \"teamdsde\"\n",
    "mountpointname = \"/mnt/rfm\"\n",
    "secret_key =\"l5wIsV649yQmqL4Oe1sOGLlPGlQq8mJHitaqjydN2qOtUkBbYUXiJrEXqYnrTuCZSDJ8Wip5HA3E+AStYEpsgA==\""
   ]
  },
  {
   "cell_type": "code",
   "execution_count": 0,
   "metadata": {
    "application/vnd.databricks.v1+cell": {
     "cellMetadata": {
      "byteLimit": 2048000,
      "rowLimit": 10000
     },
     "inputWidgets": {},
     "nuid": "bdd5b047-1096-4fab-9693-5998301e8d4f",
     "showTitle": false,
     "title": ""
    }
   },
   "outputs": [],
   "source": [
    "#mount\n",
    "#dbutils.fs.mount(source = f\"wasbs://output@teamdsde.blob.core.windows.net\",mount_point = mountpointname ,#extra_configs = {\"fs.azure.account.key.\"+azure_blobstorage_name+\".blob.core.windows.net\":secret_key})\n",
    "     "
   ]
  },
  {
   "cell_type": "code",
   "execution_count": 0,
   "metadata": {
    "application/vnd.databricks.v1+cell": {
     "cellMetadata": {
      "byteLimit": 2048000,
      "rowLimit": 10000
     },
     "inputWidgets": {},
     "nuid": "f8c87aa9-0fa4-4d80-b4e9-807bece67096",
     "showTitle": false,
     "title": ""
    }
   },
   "outputs": [],
   "source": [
    "\n",
    "DF = spark.read.format('csv').options(\n",
    "    header='true', inferschema='true').load(\"/mnt/rfm/*.csv\")"
   ]
  },
  {
   "cell_type": "code",
   "execution_count": 0,
   "metadata": {
    "application/vnd.databricks.v1+cell": {
     "cellMetadata": {
      "byteLimit": 2048000,
      "rowLimit": 10000
     },
     "inputWidgets": {},
     "nuid": "df75876c-72b2-4dff-b549-051c9df3ebc9",
     "showTitle": false,
     "title": ""
    }
   },
   "outputs": [
    {
     "output_type": "stream",
     "name": "stdout",
     "output_type": "stream",
     "text": [
      "Dataframe rows: 485123\nDataframe cols: 8\n"
     ]
    }
   ],
   "source": [
    "rowscount=DF.count()\n",
    "colcount=len(DF.columns)\n",
    "print(\"Dataframe rows:\",rowscount)\n",
    "print(\"Dataframe cols:\",colcount)"
   ]
  },
  {
   "cell_type": "code",
   "execution_count": 0,
   "metadata": {
    "application/vnd.databricks.v1+cell": {
     "cellMetadata": {
      "byteLimit": 2048000,
      "rowLimit": 10000
     },
     "inputWidgets": {},
     "nuid": "04c5bb63-12e2-4678-9c9a-fd66d4401a93",
     "showTitle": false,
     "title": ""
    }
   },
   "outputs": [
    {
     "output_type": "stream",
     "name": "stdout",
     "output_type": "stream",
     "text": [
      "+---------+---------+-----------+--------+-----------+---------+----------+-------+\n|InvoiceNo|StockCode|Description|Quantity|InvoiceDate|UnitPrice|CustomerID|Country|\n+---------+---------+-----------+--------+-----------+---------+----------+-------+\n|        0|        0|          0|       0|          0|        0|    130802|      0|\n+---------+---------+-----------+--------+-----------+---------+----------+-------+\n\n"
     ]
    }
   ],
   "source": [
    "#Null count\n",
    "from pyspark.sql.functions import col,isnan, when, count\n",
    "DF.select([count(when(isnan(c) | col(c).isNull(), c)).alias(c) for c in DF.columns]\n",
    "   ).show()"
   ]
  },
  {
   "cell_type": "code",
   "execution_count": 0,
   "metadata": {
    "application/vnd.databricks.v1+cell": {
     "cellMetadata": {
      "byteLimit": 2048000,
      "rowLimit": 10000
     },
     "inputWidgets": {},
     "nuid": "cd2408b4-2540-4cb2-bc41-11184b119cfa",
     "showTitle": false,
     "title": ""
    }
   },
   "outputs": [
    {
     "output_type": "stream",
     "name": "stdout",
     "output_type": "stream",
     "text": [
      "+---------+---------+-----------+--------+-----------+---------+----------+-------+\n|InvoiceNo|StockCode|Description|Quantity|InvoiceDate|UnitPrice|CustomerID|Country|\n+---------+---------+-----------+--------+-----------+---------+----------+-------+\n|        0|        0|          0|       0|          0|        0|         0|      0|\n+---------+---------+-----------+--------+-----------+---------+----------+-------+\n\n"
     ]
    }
   ],
   "source": [
    "DF1=DF.na.drop(subset=[\"CustomerID\"])\n",
    "DF1.select([count(when(isnan(c) | col(c).isNull(), c)).alias(c) for c in DF1.columns]\n",
    "   ).show()\n",
    "     "
   ]
  },
  {
   "cell_type": "code",
   "execution_count": 0,
   "metadata": {
    "application/vnd.databricks.v1+cell": {
     "cellMetadata": {
      "byteLimit": 2048000,
      "rowLimit": 10000
     },
     "inputWidgets": {},
     "nuid": "fea031ec-6ccc-4115-bbad-bc4c13f999f6",
     "showTitle": false,
     "title": ""
    }
   },
   "outputs": [
    {
     "output_type": "stream",
     "name": "stdout",
     "output_type": "stream",
     "text": [
      "root\n |-- InvoiceNo: string (nullable = true)\n |-- StockCode: string (nullable = true)\n |-- Description: string (nullable = true)\n |-- Quantity: integer (nullable = true)\n |-- InvoiceDate: string (nullable = true)\n |-- UnitPrice: double (nullable = true)\n |-- CustomerID: integer (nullable = true)\n |-- Country: string (nullable = true)\n\n+---------+---------+--------------------+--------+--------------+---------+----------+--------------+\n|InvoiceNo|StockCode|         Description|Quantity|   InvoiceDate|UnitPrice|CustomerID|       Country|\n+---------+---------+--------------------+--------+--------------+---------+----------+--------------+\n|   536365|   85123A|WHITE HANGING HEA...|       6|12/1/2010 8:26|     2.55|     17850|United Kingdom|\n|   536365|    71053| WHITE METAL LANTERN|       6|12/1/2010 8:26|     3.39|     17850|United Kingdom|\n|   536365|   84406B|CREAM CUPID HEART...|       8|12/1/2010 8:26|     2.75|     17850|United Kingdom|\n|   536365|   84029G|KNITTED UNION FLA...|       6|12/1/2010 8:26|     3.39|     17850|United Kingdom|\n|   536365|   84029E|RED WOOLLY HOTTIE...|       6|12/1/2010 8:26|     3.39|     17850|United Kingdom|\n|   536365|    22752|SET 7 BABUSHKA NE...|       2|12/1/2010 8:26|     7.65|     17850|United Kingdom|\n|   536365|    21730|GLASS STAR FROSTE...|       6|12/1/2010 8:26|     4.25|     17850|United Kingdom|\n|   536366|    22633|HAND WARMER UNION...|       6|12/1/2010 8:28|     1.85|     17850|United Kingdom|\n|   536366|    22632|HAND WARMER RED P...|       6|12/1/2010 8:28|     1.85|     17850|United Kingdom|\n|   536367|    84879|ASSORTED COLOUR B...|      32|12/1/2010 8:34|     1.69|     13047|United Kingdom|\n+---------+---------+--------------------+--------+--------------+---------+----------+--------------+\nonly showing top 10 rows\n\n"
     ]
    }
   ],
   "source": [
    "\n",
    "DF1.printSchema()\n",
    "DF1.show(10)\n",
    "     "
   ]
  },
  {
   "cell_type": "code",
   "execution_count": 0,
   "metadata": {
    "application/vnd.databricks.v1+cell": {
     "cellMetadata": {
      "byteLimit": 2048000,
      "rowLimit": 10000
     },
     "inputWidgets": {},
     "nuid": "7511019b-2eea-4465-a5e2-90887a586d0c",
     "showTitle": false,
     "title": ""
    }
   },
   "outputs": [
    {
     "output_type": "stream",
     "name": "stdout",
     "output_type": "stream",
     "text": [
      "+---------+---------+--------------------+--------+-------------------+---------+----------+--------------+----------+-----+----+\n|InvoiceNo|StockCode|         Description|Quantity|        InvoiceDate|UnitPrice|CustomerID|       Country|      Date|Month|Year|\n+---------+---------+--------------------+--------+-------------------+---------+----------+--------------+----------+-----+----+\n|   536365|   85123A|WHITE HANGING HEA...|       6|2010-12-01 08:26:00|     2.55|     17850|United Kingdom|2010-12-01|   12|2010|\n|   536365|    71053| WHITE METAL LANTERN|       6|2010-12-01 08:26:00|     3.39|     17850|United Kingdom|2010-12-01|   12|2010|\n|   536365|   84406B|CREAM CUPID HEART...|       8|2010-12-01 08:26:00|     2.75|     17850|United Kingdom|2010-12-01|   12|2010|\n|   536365|   84029G|KNITTED UNION FLA...|       6|2010-12-01 08:26:00|     3.39|     17850|United Kingdom|2010-12-01|   12|2010|\n|   536365|   84029E|RED WOOLLY HOTTIE...|       6|2010-12-01 08:26:00|     3.39|     17850|United Kingdom|2010-12-01|   12|2010|\n|   536365|    22752|SET 7 BABUSHKA NE...|       2|2010-12-01 08:26:00|     7.65|     17850|United Kingdom|2010-12-01|   12|2010|\n|   536365|    21730|GLASS STAR FROSTE...|       6|2010-12-01 08:26:00|     4.25|     17850|United Kingdom|2010-12-01|   12|2010|\n|   536366|    22633|HAND WARMER UNION...|       6|2010-12-01 08:28:00|     1.85|     17850|United Kingdom|2010-12-01|   12|2010|\n|   536366|    22632|HAND WARMER RED P...|       6|2010-12-01 08:28:00|     1.85|     17850|United Kingdom|2010-12-01|   12|2010|\n|   536367|    84879|ASSORTED COLOUR B...|      32|2010-12-01 08:34:00|     1.69|     13047|United Kingdom|2010-12-01|   12|2010|\n|   536367|    22745|POPPY'S PLAYHOUSE...|       6|2010-12-01 08:34:00|      2.1|     13047|United Kingdom|2010-12-01|   12|2010|\n|   536367|    22748|POPPY'S PLAYHOUSE...|       6|2010-12-01 08:34:00|      2.1|     13047|United Kingdom|2010-12-01|   12|2010|\n|   536367|    22749|FELTCRAFT PRINCES...|       8|2010-12-01 08:34:00|     3.75|     13047|United Kingdom|2010-12-01|   12|2010|\n|   536367|    22310|IVORY KNITTED MUG...|       6|2010-12-01 08:34:00|     1.65|     13047|United Kingdom|2010-12-01|   12|2010|\n|   536367|    84969|BOX OF 6 ASSORTED...|       6|2010-12-01 08:34:00|     4.25|     13047|United Kingdom|2010-12-01|   12|2010|\n|   536367|    22623|BOX OF VINTAGE JI...|       3|2010-12-01 08:34:00|     4.95|     13047|United Kingdom|2010-12-01|   12|2010|\n|   536367|    22622|BOX OF VINTAGE AL...|       2|2010-12-01 08:34:00|     9.95|     13047|United Kingdom|2010-12-01|   12|2010|\n|   536367|    21754|HOME BUILDING BLO...|       3|2010-12-01 08:34:00|     5.95|     13047|United Kingdom|2010-12-01|   12|2010|\n|   536367|    21755|LOVE BUILDING BLO...|       3|2010-12-01 08:34:00|     5.95|     13047|United Kingdom|2010-12-01|   12|2010|\n|   536367|    21777|RECIPE BOX WITH M...|       4|2010-12-01 08:34:00|     7.95|     13047|United Kingdom|2010-12-01|   12|2010|\n+---------+---------+--------------------+--------+-------------------+---------+----------+--------------+----------+-----+----+\nonly showing top 20 rows\n\n"
     ]
    }
   ],
   "source": [
    "#Imports\n",
    "# #def square(x):  \n",
    "#    return x**2  \n",
    "\n",
    "import pandas as pd\n",
    "pandasDF = DF1.toPandas()\n",
    "pandasDF['InvoiceDate']= pd.to_datetime(pandasDF['InvoiceDate'])\n",
    "pandasDF[\"Date\"]=pd.DatetimeIndex(pandasDF[\"InvoiceDate\"]).date\n",
    "pandasDF[\"Month\"]=pandasDF[\"InvoiceDate\"].dt.month\n",
    "pandasDF[\"Year\"]=pandasDF[\"InvoiceDate\"].dt.year\n",
    "DF2 = spark.createDataFrame(pandasDF)\n",
    "DF2.show()"
   ]
  },
  {
   "cell_type": "code",
   "execution_count": 0,
   "metadata": {
    "application/vnd.databricks.v1+cell": {
     "cellMetadata": {
      "byteLimit": 2048000,
      "rowLimit": 10000
     },
     "inputWidgets": {},
     "nuid": "6e7767c0-d5a2-4414-879b-3638309fc4a9",
     "showTitle": false,
     "title": ""
    }
   },
   "outputs": [
    {
     "output_type": "stream",
     "name": "stdout",
     "output_type": "stream",
     "text": [
      "+--------------------+------------------+\n|         Description|   sum(Totalsales)|\n+--------------------+------------------+\n|10 COLOUR SPACEBO...|3669.0899999999992|\n|SET/10 BLUE POLKA...|            2362.5|\n|POTTING SHED SOW ...|              4.25|\n|SET/3 RED GINGHAM...| 8048.550000000001|\n|MAGNETS PACK OF 4...|453.25000000000006|\n|WHITE CHRYSANTHEM...| 79.80000000000001|\n|SILVER FABRIC MIRROR|157.70000000000005|\n|PINK  HONEYCOMB P...|             238.3|\n|PAPERWEIGHT KINGS...|             165.3|\n|PINK BOUDOIR T-LI...|              10.2|\n|GLASS CAKE COVER ...|              29.9|\n| BLACK CHERRY LIGHTS|              54.0|\n|WOVEN BERRIES CUS...|             74.25|\n|IVORY ENCHANTED F...| 546.8999999999999|\n|PACK OF 12 COLOUR...|1862.7999999999997|\n|ANTIQUE SILVER TE...|4003.0000000000014|\n|   CLAM SHELL SMALL |            371.53|\n|TWO DOOR CURIO CA...|2398.9500000000003|\n|MULTICOLOUR HONEY...|331.67999999999995|\n|GREEN GOOSE FEATH...| 361.3500000000001|\n+--------------------+------------------+\nonly showing top 20 rows\n\n"
     ]
    }
   ],
   "source": [
    "\n",
    "from pyspark.sql.functions import *\n",
    "from pyspark.sql.types import *\n",
    "import pyspark.sql.functions as F\n",
    "from pyspark.sql.types import *\n",
    "DF3=DF2.withColumn(\"Totalsales\",col(\"UnitPrice\")*col(\"Quantity\"))\n",
    "Totalsalesbymonth=DF3.groupBy('Description').sum('Totalsales')\n",
    "Totalsalesbymonth.show()"
   ]
  },
  {
   "cell_type": "code",
   "execution_count": 0,
   "metadata": {
    "application/vnd.databricks.v1+cell": {
     "cellMetadata": {
      "byteLimit": 2048000,
      "rowLimit": 10000
     },
     "inputWidgets": {},
     "nuid": "2b9bb74b-18ac-493b-b0a5-eaa89fd9a9d6",
     "showTitle": false,
     "title": ""
    }
   },
   "outputs": [
    {
     "output_type": "stream",
     "name": "stdout",
     "output_type": "stream",
     "text": [
      "+---------+---------+--------------------+--------+-------------------+---------+----------+--------------+----------+-----+----+------------------+--------+\n|InvoiceNo|StockCode|         Description|Quantity|        InvoiceDate|UnitPrice|CustomerID|       Country|      Date|Month|Year|        Totalsales|Duration|\n+---------+---------+--------------------+--------+-------------------+---------+----------+--------------+----------+-----+----+------------------+--------+\n|   536365|   85123A|WHITE HANGING HEA...|       6|2010-12-01 08:26:00|     2.55|     17850|United Kingdom|2010-12-01|   12|2010|15.299999999999999|     373|\n|   536365|    71053| WHITE METAL LANTERN|       6|2010-12-01 08:26:00|     3.39|     17850|United Kingdom|2010-12-01|   12|2010|             20.34|     373|\n|   536365|   84406B|CREAM CUPID HEART...|       8|2010-12-01 08:26:00|     2.75|     17850|United Kingdom|2010-12-01|   12|2010|              22.0|     373|\n|   536365|   84029G|KNITTED UNION FLA...|       6|2010-12-01 08:26:00|     3.39|     17850|United Kingdom|2010-12-01|   12|2010|             20.34|     373|\n|   536365|   84029E|RED WOOLLY HOTTIE...|       6|2010-12-01 08:26:00|     3.39|     17850|United Kingdom|2010-12-01|   12|2010|             20.34|     373|\n+---------+---------+--------------------+--------+-------------------+---------+----------+--------------+----------+-----+----+------------------+--------+\nonly showing top 5 rows\n\n"
     ]
    }
   ],
   "source": [
    "\n",
    "date_max = DF3.select(F.max(DF3.InvoiceDate).alias('max_date')).toPandas()\n",
    "DF4 = DF3.withColumn('Duration', F.datediff(F.lit(date_max.iloc[0][0]), 'InvoiceDate')) #'2011-12-04 13:15:00'\n",
    "DF4.show(5)"
   ]
  },
  {
   "cell_type": "code",
   "execution_count": 0,
   "metadata": {
    "application/vnd.databricks.v1+cell": {
     "cellMetadata": {
      "byteLimit": 2048000,
      "rowLimit": 10000
     },
     "inputWidgets": {},
     "nuid": "a3550e89-3aa2-4de8-8de5-a240a357ac0a",
     "showTitle": false,
     "title": ""
    }
   },
   "outputs": [
    {
     "output_type": "stream",
     "name": "stdout",
     "output_type": "stream",
     "text": [
      "+----------+-------+\n|CustomerID|Recency|\n+----------+-------+\n|     14422|      0|\n|     17754|      0|\n|     16954|      0|\n|     17001|      0|\n|     13426|      0|\n|     17389|      0|\n|     18102|      0|\n|     14051|      0|\n|     16558|      0|\n|     15311|      0|\n|     16626|      0|\n|     17428|      0|\n|     15910|      0|\n|     13069|      0|\n|     13113|      0|\n|     14441|      0|\n|     17364|      0|\n|     13777|      0|\n|     12748|      0|\n|     16705|      0|\n+----------+-------+\nonly showing top 20 rows\n\n"
     ]
    }
   ],
   "source": [
    "recency = DF4.groupby('CustomerID').agg(F.min('Duration').alias('Recency'))\n",
    "recency.sort(col('Recency')).show()"
   ]
  },
  {
   "cell_type": "code",
   "execution_count": 0,
   "metadata": {
    "application/vnd.databricks.v1+cell": {
     "cellMetadata": {
      "byteLimit": 2048000,
      "rowLimit": 10000
     },
     "inputWidgets": {},
     "nuid": "2abdfcaf-c3db-4a13-9d48-eb71d78c6f20",
     "showTitle": false,
     "title": ""
    }
   },
   "outputs": [
    {
     "output_type": "stream",
     "name": "stdout",
     "output_type": "stream",
     "text": [
      "+----------+---------+\n|CustomerID|Frequency|\n+----------+---------+\n|     12748|      210|\n|     17841|      124|\n|     14606|       95|\n|     13089|       93|\n|     15311|       91|\n+----------+---------+\nonly showing top 5 rows\n\n"
     ]
    }
   ],
   "source": [
    "frequency = DF4.groupby('CustomerID', 'InvoiceDate').count()\\\n",
    "                        .groupby('CustomerID')\\\n",
    "                        .agg(F.count(\"*\").alias(\"Frequency\"))\n",
    "frequency.orderBy(frequency.Frequency.desc()).show(5)"
   ]
  },
  {
   "cell_type": "code",
   "execution_count": 0,
   "metadata": {
    "application/vnd.databricks.v1+cell": {
     "cellMetadata": {
      "byteLimit": 2048000,
      "rowLimit": 10000
     },
     "inputWidgets": {},
     "nuid": "3f3f4252-ebd3-46c8-a557-7114ca375780",
     "showTitle": false,
     "title": ""
    }
   },
   "outputs": [
    {
     "output_type": "stream",
     "name": "stdout",
     "output_type": "stream",
     "text": [
      "+----------+--------------+\n|CustomerID|Monetary_value|\n+----------+--------------+\n|     18102|      259657.3|\n|     17450|     194550.79|\n|     16446|      168472.5|\n|     17511|      91062.38|\n|     16029|      81024.84|\n+----------+--------------+\nonly showing top 5 rows\n\n"
     ]
    }
   ],
   "source": [
    "\n",
    "monetary = DF4.groupby('CustomerID').agg(F.round(F.sum('Totalsales'), 2).alias('Monetary_value'))\n",
    "monetary.orderBy(F.col('Monetary_value').desc()).show(5)"
   ]
  },
  {
   "cell_type": "code",
   "execution_count": 0,
   "metadata": {
    "application/vnd.databricks.v1+cell": {
     "cellMetadata": {
      "byteLimit": 2048000,
      "rowLimit": 10000
     },
     "inputWidgets": {},
     "nuid": "adf9dad7-21a9-406d-8723-6ccce46652f2",
     "showTitle": false,
     "title": ""
    }
   },
   "outputs": [
    {
     "output_type": "stream",
     "name": "stdout",
     "output_type": "stream",
     "text": [
      "+----------+-------+---------+--------------+\n|CustomerID|Recency|Frequency|Monetary_value|\n+----------+-------+---------+--------------+\n|     15727|     16|        7|       5178.96|\n|     17389|      0|       34|      31833.68|\n|     16503|    106|        4|       1431.93|\n|     14570|    280|        2|        218.06|\n|     17420|     50|        3|        598.83|\n+----------+-------+---------+--------------+\nonly showing top 5 rows\n\n"
     ]
    }
   ],
   "source": [
    "rfm = recency.join(frequency, on = 'CustomerID', how = 'inner')\\\n",
    "             .join(monetary, on = 'CustomerID', how = 'inner')\n",
    "rfm.show(5)"
   ]
  },
  {
   "cell_type": "code",
   "execution_count": 0,
   "metadata": {
    "application/vnd.databricks.v1+cell": {
     "cellMetadata": {
      "byteLimit": 2048000,
      "rowLimit": 10000
     },
     "inputWidgets": {},
     "nuid": "18339721-ef52-4872-b2c5-7fc511c3ce18",
     "showTitle": false,
     "title": ""
    }
   },
   "outputs": [
    {
     "output_type": "stream",
     "name": "stdout",
     "output_type": "stream",
     "text": [
      "+----------+-------+---------+--------------+\n|CustomerID|Recency|Frequency|Monetary_value|\n+----------+-------+---------+--------------+\n|     17389|      0|       34|      31833.68|\n|     16503|    106|        4|       1431.93|\n|     14570|    280|        2|        218.06|\n|     17420|     50|        3|        598.83|\n|     13623|     30|        5|        747.78|\n|     15447|    330|        1|        155.17|\n|     14450|    180|        3|        483.25|\n|     15790|     10|        1|        220.85|\n|     15619|     10|        1|         336.4|\n|     15296|     50|        6|       3672.86|\n|     17754|      0|        5|       1772.26|\n|     17223|    310|        2|        426.79|\n|     14779|    280|        3|        386.15|\n|     15292|    201|        1|        180.94|\n|     15026|     80|        3|         469.0|\n|     16549|     10|       10|       4154.64|\n|     17213|     40|        7|       2781.23|\n|     14284|     30|        2|        595.25|\n|     16601|     40|        1|         244.8|\n|     17392|    306|        2|        457.91|\n+----------+-------+---------+--------------+\nonly showing top 20 rows\n\n"
     ]
    }
   ],
   "source": [
    "\n",
    "rfm.where(rfm.Recency.contains(0)).show()"
   ]
  },
  {
   "cell_type": "code",
   "execution_count": 0,
   "metadata": {
    "application/vnd.databricks.v1+cell": {
     "cellMetadata": {
      "byteLimit": 2048000,
      "rowLimit": 10000
     },
     "inputWidgets": {},
     "nuid": "3ced347c-7e38-45a2-8630-cb3c854f1935",
     "showTitle": false,
     "title": ""
    }
   },
   "outputs": [],
   "source": [
    "def r_score(r_value):\n",
    "    \"\"\"recency with lower value ranks the least, i.e the \n",
    "    more recent a user transaction, the lower the rank\"\"\"\n",
    "    \n",
    "    if r_value <= 14:    # 2 weeks\n",
    "        return 1\n",
    "    elif r_value <= 31:   # 1 month\n",
    "        return 2\n",
    "    elif r_value <= 93:    # 3 month\n",
    "        return 3\n",
    "    else:\n",
    "        return \n",
    "    \n",
    "def f_score(f_value):\n",
    "    \"\"\"the more a customer transact with the business, \n",
    "    the more their rank is closer to 1, the fewer the number of \n",
    "    times they have made transaction, the higher the rank\"\"\"\n",
    "    \n",
    "    if f_value <= 3:\n",
    "        return 4\n",
    "    elif f_value <= 18:\n",
    "        return 3\n",
    "    elif f_value <= 36:\n",
    "        return 2\n",
    "    else:\n",
    "        return 1\n",
    "\n",
    "    \n",
    "def m_score(m_value):\n",
    "    \"\"\"the more the value contributed to the business, \n",
    "    the higher their rank to 1\"\"\"\n",
    "    \n",
    "    if m_value < 10:\n",
    "        return 4\n",
    "    elif m_value <= 100:\n",
    "        return 3\n",
    "    elif m_value <= 1000:\n",
    "        return 2\n",
    "    else:\n",
    "        return 1\n",
    "    \n",
    "r_udf = F.udf(lambda r_value: r_score(r_value), StringType())\n",
    "f_udf = F.udf(lambda f_value: f_score(f_value), StringType())pp\n",
    "m_udf = F.udf(lambda m_value: m_score(m_value), StringType())"
   ]
  },
  {
   "cell_type": "code",
   "execution_count": 0,
   "metadata": {
    "application/vnd.databricks.v1+cell": {
     "cellMetadata": {
      "byteLimit": 2048000,
      "rowLimit": 10000
     },
     "inputWidgets": {},
     "nuid": "2bb5bc04-d638-4fc8-8d5e-474813779d6b",
     "showTitle": false,
     "title": ""
    }
   },
   "outputs": [
    {
     "output_type": "stream",
     "name": "stdout",
     "output_type": "stream",
     "text": [
      "+----------+-------+---------+--------------+-------+-------+-------+\n|CustomerID|Recency|Frequency|Monetary_value|r_score|f_score|m_score|\n+----------+-------+---------+--------------+-------+-------+-------+\n|     15727|     16|        7|       5178.96|      2|      3|      1|\n|     17389|      0|       34|      31833.68|      1|      2|      1|\n|     16503|    106|        4|       1431.93|   NULL|      3|      1|\n|     14570|    280|        2|        218.06|   NULL|      4|      2|\n|     17420|     50|        3|        598.83|      3|      4|      2|\n+----------+-------+---------+--------------+-------+-------+-------+\nonly showing top 5 rows\n\n"
     ]
    }
   ],
   "source": [
    "\n",
    "rfm_seg = rfm.withColumn('r_score', r_udf(F.col('recency')))\n",
    "rfm_seg = rfm_seg.withColumn('f_score', f_udf(F.col('frequency')))\n",
    "rfm_seg = rfm_seg.withColumn('m_score', m_udf(F.col('monetary_value')))\n",
    "rfm_seg.show(5)"
   ]
  },
  {
   "cell_type": "code",
   "execution_count": 0,
   "metadata": {
    "application/vnd.databricks.v1+cell": {
     "cellMetadata": {
      "byteLimit": 2048000,
      "rowLimit": 10000
     },
     "inputWidgets": {},
     "nuid": "ec82eae6-cac5-4420-a206-cbb1df5fe2c8",
     "showTitle": false,
     "title": ""
    }
   },
   "outputs": [
    {
     "output_type": "stream",
     "name": "stdout",
     "output_type": "stream",
     "text": [
      "Dataframe rows: 3920\nDataframe cols: 7\n"
     ]
    }
   ],
   "source": [
    "\n",
    "rowscount=rfm_seg.count()\n",
    "colcount=len(rfm_seg.columns)\n",
    "print(\"Dataframe rows:\",rowscount)\n",
    "print(\"Dataframe cols:\",colcount)"
   ]
  },
  {
   "cell_type": "code",
   "execution_count": 0,
   "metadata": {
    "application/vnd.databricks.v1+cell": {
     "cellMetadata": {
      "byteLimit": 2048000,
      "rowLimit": 10000
     },
     "inputWidgets": {},
     "nuid": "408ccce6-e9e4-4c96-993c-05551ded46e7",
     "showTitle": false,
     "title": ""
    }
   },
   "outputs": [],
   "source": [
    "\n",
    "rfm_seg.write.mode(\"overwrite\").format(\"csv\").save(\"/mnt/RFMdata/RFMresults/RFMscores.csv\")\n",
    "     "
   ]
  }
 ],
 "metadata": {
  "application/vnd.databricks.v1+notebook": {
   "dashboards": [],
   "language": "python",
   "notebookMetadata": {
    "pythonIndentUnit": 4
   },
   "notebookName": "Untitled Notebook 2024-04-22 00:48:01",
   "widgets": {}
  }
 },
 "nbformat": 4,
 "nbformat_minor": 0
}
